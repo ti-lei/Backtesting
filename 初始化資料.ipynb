{
 "cells": [
  {
   "cell_type": "code",
   "execution_count": 1,
   "metadata": {},
   "outputs": [],
   "source": [
    "import os\n",
    "from raw_data.data_preprocess import formatting_data"
   ]
  },
  {
   "cell_type": "code",
   "execution_count": 2,
   "metadata": {},
   "outputs": [
    {
     "data": {
      "text/plain": [
       "['大盤_還原.csv', '收盤價_還原.csv', '總市值(億).csv', '開盤價_還原.csv']"
      ]
     },
     "execution_count": 2,
     "metadata": {},
     "output_type": "execute_result"
    }
   ],
   "source": [
    "# 找出欲初始化的raw data\n",
    "file_list = []\n",
    "for file in os.listdir('raw_data'):\n",
    "    if '.csv' in file:\n",
    "        file_list.append(file)\n",
    "        \n",
    "file_list"
   ]
  },
  {
   "cell_type": "code",
   "execution_count": 3,
   "metadata": {
    "scrolled": false
   },
   "outputs": [
    {
     "name": "stdout",
     "output_type": "stream",
     "text": [
      "資料： 「大盤_還原.csv」已初始化並儲存！\n",
      "最新資料日期為: 20190829\n",
      "\n",
      "資料： 「收盤價_還原.csv」已初始化並儲存！\n",
      "最新資料日期為: 20190829\n",
      "\n",
      "資料： 「總市值(億).csv」已初始化並儲存！\n",
      "最新資料日期為: 20190829\n",
      "\n",
      "資料： 「開盤價_還原.csv」已初始化並儲存！\n",
      "最新資料日期為: 20190829\n",
      "\n"
     ]
    }
   ],
   "source": [
    "for file in file_list:\n",
    "    formatting_data(file)\n",
    "    print('')"
   ]
  }
 ],
 "metadata": {
  "kernelspec": {
   "display_name": "Python 3",
   "language": "python",
   "name": "python3"
  },
  "language_info": {
   "codemirror_mode": {
    "name": "ipython",
    "version": 3
   },
   "file_extension": ".py",
   "mimetype": "text/x-python",
   "name": "python",
   "nbconvert_exporter": "python",
   "pygments_lexer": "ipython3",
   "version": "3.7.4"
  }
 },
 "nbformat": 4,
 "nbformat_minor": 2
}
