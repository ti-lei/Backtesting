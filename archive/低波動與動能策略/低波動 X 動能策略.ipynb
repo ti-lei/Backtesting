{
 "cells": [
  {
   "cell_type": "markdown",
   "metadata": {},
   "source": [
    "# 輸入套件"
   ]
  },
  {
   "cell_type": "code",
   "execution_count": 1,
   "metadata": {},
   "outputs": [
    {
     "ename": "ModuleNotFoundError",
     "evalue": "No module named 'preprocess'",
     "output_type": "error",
     "traceback": [
      "\u001b[0;31m---------------------------------------------------------------------------\u001b[0m",
      "\u001b[0;31mModuleNotFoundError\u001b[0m                       Traceback (most recent call last)",
      "\u001b[0;32m<ipython-input-1-f2cb23bbb1f8>\u001b[0m in \u001b[0;36m<module>\u001b[0;34m\u001b[0m\n\u001b[1;32m      1\u001b[0m \u001b[0;31m# 自製模組套件\u001b[0m\u001b[0;34m\u001b[0m\u001b[0;34m\u001b[0m\u001b[0;34m\u001b[0m\u001b[0m\n\u001b[0;32m----> 2\u001b[0;31m \u001b[0;32mfrom\u001b[0m \u001b[0mpreprocess\u001b[0m \u001b[0;32mimport\u001b[0m \u001b[0mData\u001b[0m\u001b[0;34m\u001b[0m\u001b[0;34m\u001b[0m\u001b[0m\n\u001b[0m\u001b[1;32m      3\u001b[0m \u001b[0;32mfrom\u001b[0m \u001b[0mbacktest\u001b[0m \u001b[0;32mimport\u001b[0m \u001b[0mBacktest\u001b[0m\u001b[0;34m\u001b[0m\u001b[0;34m\u001b[0m\u001b[0m\n\u001b[1;32m      4\u001b[0m \u001b[0;34m\u001b[0m\u001b[0m\n\u001b[1;32m      5\u001b[0m \u001b[0;31m# 外部套件\u001b[0m\u001b[0;34m\u001b[0m\u001b[0;34m\u001b[0m\u001b[0;34m\u001b[0m\u001b[0m\n",
      "\u001b[0;31mModuleNotFoundError\u001b[0m: No module named 'preprocess'"
     ]
    }
   ],
   "source": [
    "# 自製模組套件\n",
    "from preprocess import Data\n",
    "from backtest import Backtest\n",
    "\n",
    "# 外部套件\n",
    "import os\n",
    "from operators import lag"
   ]
  },
  {
   "cell_type": "markdown",
   "metadata": {},
   "source": [
    "# 輸入資料"
   ]
  },
  {
   "cell_type": "code",
   "execution_count": null,
   "metadata": {
    "scrolled": true
   },
   "outputs": [],
   "source": [
    "# 檢視可使用資料\n",
    "os.listdir('data')"
   ]
  },
  {
   "cell_type": "code",
   "execution_count": null,
   "metadata": {},
   "outputs": [],
   "source": [
    "# 建立Data物件\n",
    "vol = Data(\n",
    "    data_name='vol',\n",
    "    data_frequency='day',\n",
    "    market_size_threshold=200\n",
    ")\n",
    "\n",
    "close_price = Data(\n",
    "    data_name='收盤價_未還原_已格式化',\n",
    "    data_frequency='day',\n",
    "    market_size_select_rank='top',\n",
    "    market_size_threshold=200\n",
    ")"
   ]
  },
  {
   "cell_type": "markdown",
   "metadata": {},
   "source": [
    "# 定義篩選條件、計算公式"
   ]
  },
  {
   "cell_type": "code",
   "execution_count": null,
   "metadata": {},
   "outputs": [],
   "source": [
    "from operators import lag\n",
    "\n",
    "def calculate_days_60_return(series):\n",
    "    '''\n",
    "    計算近250日報酬\n",
    "    '''\n",
    "    return (\n",
    "        series / lag(series, 250) -1\n",
    "    )\n",
    "\n",
    "def bigger_than_threshold(series):\n",
    "    '''\n",
    "    回傳大於等於0.2者\n",
    "    '''\n",
    "    return series >= 0.2"
   ]
  },
  {
   "cell_type": "markdown",
   "metadata": {},
   "source": [
    "# 加入濾網、篩選條件、計算自定義數值分析\n",
    "範例策略：每月最後一日衡量，波動度最低30%者，且近250日報酬大於0.2。"
   ]
  },
  {
   "cell_type": "code",
   "execution_count": null,
   "metadata": {},
   "outputs": [],
   "source": [
    "vol.mutate_data(\n",
    "    None, \n",
    "    rebalance_frequency='month',\n",
    "    date_order_ascending=False,\n",
    "    measure_on_nth_date=1\n",
    ")\n",
    "\n",
    "close_price.mutate_data(\n",
    "    calculate_days_60_return,\n",
    "    rebalance_frequency='month',\n",
    "    date_order_ascending=False,\n",
    "    measure_on_nth_date=1\n",
    ")\n",
    "\n",
    "vol.select(rank='bottom', ratio=0.2)\n",
    "close_price.add_filter(bigger_than_threshold)"
   ]
  },
  {
   "cell_type": "markdown",
   "metadata": {},
   "source": [
    "# 開始回測"
   ]
  },
  {
   "cell_type": "code",
   "execution_count": null,
   "metadata": {},
   "outputs": [],
   "source": [
    "signal_list = [\n",
    "    vol, close_price \n",
    "]\n",
    "\n",
    "backtesting = Backtest(\n",
    "    signal_list,\n",
    "    start_date='2010/1/1',\n",
    "    end_date='2019/6/30',\n",
    "    long_or_short='long'\n",
    ")\n",
    "backtesting.run()"
   ]
  },
  {
   "cell_type": "markdown",
   "metadata": {},
   "source": [
    "# 分析結果"
   ]
  },
  {
   "cell_type": "code",
   "execution_count": null,
   "metadata": {
    "scrolled": true
   },
   "outputs": [],
   "source": [
    "from analysis import Analysis\n",
    "\n",
    "backtesting_result = Analysis(backtesting)\n",
    "backtesting_result.run()"
   ]
  },
  {
   "cell_type": "code",
   "execution_count": null,
   "metadata": {
    "scrolled": false
   },
   "outputs": [],
   "source": [
    "backtesting_result.plot_cumulative_return(weight_method='naive_weight')"
   ]
  },
  {
   "cell_type": "code",
   "execution_count": null,
   "metadata": {
    "scrolled": false
   },
   "outputs": [],
   "source": [
    "backtesting_result.plot_profit_and_loss(weight_method='cap_weight', frequency='month')"
   ]
  },
  {
   "cell_type": "code",
   "execution_count": null,
   "metadata": {
    "scrolled": false
   },
   "outputs": [],
   "source": [
    "backtesting_result.plot_return_heatmap(weight_method='cap_weight')"
   ]
  },
  {
   "cell_type": "code",
   "execution_count": null,
   "metadata": {
    "scrolled": false
   },
   "outputs": [],
   "source": [
    "backtesting_result.summary()"
   ]
  },
  {
   "cell_type": "markdown",
   "metadata": {},
   "source": [
    "# 若需要比較不同參數的策略績效，可以透過for loop代入不同參數同時儲存結果\n",
    "基本作法就是將上面的過程重複執行，因為需要重新帶入不同參數\n",
    "\n",
    "(以下為計算近250天報酬下，考量不同動能因子門檻)"
   ]
  },
  {
   "cell_type": "code",
   "execution_count": null,
   "metadata": {
    "scrolled": true
   },
   "outputs": [],
   "source": [
    "# result = {}\n",
    "# for return_ratio in  np.arange(0, 0.55, 0.05):\n",
    "#     print('backtesting_resulting...{}'.format(return_ratio))\n",
    "#     vol = Data(\n",
    "#         data_name='vol',\n",
    "#         data_frequency='day',\n",
    "#         market_size_threshold=200\n",
    "#     )\n",
    "\n",
    "#     close_price = Data(\n",
    "#         data_name='收盤價_未還原_已格式化',\n",
    "#         data_frequency='day',\n",
    "#         market_size_threshold=200\n",
    "#     )\n",
    "\n",
    "#     def n_days_return(series):\n",
    "#         return (\n",
    "#             series / lag(series, 250) -1\n",
    "#         )\n",
    "\n",
    "#     def bigger_than_5(series):\n",
    "#         return series >= return_ratio\n",
    "    \n",
    "#     vol.mutate_data(\n",
    "#         None, \n",
    "#         rebalance_frequency='month',\n",
    "#         date_order_ascending=False,\n",
    "#         measure_on_nth_date=1\n",
    "#     )\n",
    "\n",
    "#     close_price.mutate_data(\n",
    "#         n_days_return,\n",
    "#         rebalance_frequency='month',\n",
    "#         date_order_ascending=False,\n",
    "#         measure_on_nth_date=1\n",
    "#     )\n",
    "\n",
    "#     vol.select(rank='bottom', ratio=0.3)\n",
    "#     close_price.add_filter(bigger_than_5)\n",
    "    \n",
    "#     signal_list = [\n",
    "#         close_price, vol\n",
    "#     ]\n",
    "#     backbacktesting_resulting = Backbacktesting_result(\n",
    "#         signal_list, start_date='2010/1/1', end_date='2019/6/30', long_or_short='long'\n",
    "#     )\n",
    "#     backbacktesting_resulting.run()\n",
    "    \n",
    "#     backtesting_result = Analysis(backbacktesting_resulting)\n",
    "#     backtesting_result.run()\n",
    "    \n",
    "#     temp_result = backtesting_result.naive_weight_return[['holding_date', 'cumulative_return']]\n",
    "    \n",
    "#     result[return_ratio] = temp_result"
   ]
  },
  {
   "cell_type": "markdown",
   "metadata": {},
   "source": [
    "# 接著整理結果並儲存，就可以進行後續分析"
   ]
  },
  {
   "cell_type": "code",
   "execution_count": null,
   "metadata": {
    "scrolled": true
   },
   "outputs": [],
   "source": [
    "# date_key = pd.DataFrame(test.benchmark_data['holding_date']).reset_index(drop=True)\n",
    "# for key in result.keys():\n",
    "#     date_key = date_key.merge(result[key], on='holding_date', how='outer')\n",
    "    \n",
    "# date_key.index = date_key.holding_date\n",
    "# date_key.drop(columns='holding_date', inplace=True)\n",
    "# date_key.columns = np.arange(0, 0.55, 0.05)\n",
    "\n",
    "# date_key.to_csv('250.csv')"
   ]
  }
 ],
 "metadata": {
  "kernelspec": {
   "display_name": "Python 3",
   "language": "python",
   "name": "python3"
  },
  "language_info": {
   "codemirror_mode": {
    "name": "ipython",
    "version": 3
   },
   "file_extension": ".py",
   "mimetype": "text/x-python",
   "name": "python",
   "nbconvert_exporter": "python",
   "pygments_lexer": "ipython3",
   "version": "3.7.4"
  }
 },
 "nbformat": 4,
 "nbformat_minor": 2
}
