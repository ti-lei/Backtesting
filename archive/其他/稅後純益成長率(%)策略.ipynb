{
 "cells": [
  {
   "cell_type": "markdown",
   "metadata": {},
   "source": [
    "# 輸入套件"
   ]
  },
  {
   "cell_type": "code",
   "execution_count": 1,
   "metadata": {},
   "outputs": [],
   "source": [
    "# 自製模組套件\n",
    "from preprocess import Data\n",
    "from backtest import Backtest\n",
    "\n",
    "# 外部套件\n",
    "import os\n",
    "from operators import lag"
   ]
  },
  {
   "cell_type": "markdown",
   "metadata": {},
   "source": [
    "# 輸入資料"
   ]
  },
  {
   "cell_type": "code",
   "execution_count": 2,
   "metadata": {},
   "outputs": [
    {
     "data": {
      "text/plain": [
       "['benchmark.csv',\n",
       " 'close_price.csv',\n",
       " 'market_size.csv',\n",
       " 'open_price.csv',\n",
       " 'vol.csv',\n",
       " '單月合併營收創N個月新高_已格式化.csv',\n",
       " '單月合併營收年成長(%)連N個月大於零_已格式化.csv',\n",
       " '單月合併營收連N個月遞增_已格式化.csv',\n",
       " '單月營收年成長(%)_已格式化.csv',\n",
       " '收盤價_未還原_已格式化.csv',\n",
       " '累計合併營收成長(%)連N個月大於零_已格式化.csv']"
      ]
     },
     "execution_count": 2,
     "metadata": {},
     "output_type": "execute_result"
    }
   ],
   "source": [
    "# 檢視可使用資料\n",
    "os.listdir('data')"
   ]
  },
  {
   "cell_type": "code",
   "execution_count": 3,
   "metadata": {},
   "outputs": [
    {
     "name": "stdout",
     "output_type": "stream",
     "text": [
      "「稅後純益成長率(%)_已格式化」 不存在!\n",
      "請輸入正確資料名稱，例如：稅後純益成長率(%)_已格式化\n",
      "Error: 'utf-8' codec can't decode byte 0xb5 in position 5: invalid start byte\n"
     ]
    },
    {
     "ename": "AttributeError",
     "evalue": "'Data' object has no attribute 'data'",
     "output_type": "error",
     "traceback": [
      "\u001b[1;31m---------------------------------------------------------------------------\u001b[0m",
      "\u001b[1;31mAttributeError\u001b[0m                            Traceback (most recent call last)",
      "\u001b[1;32m<ipython-input-3-95dd6c1a05aa>\u001b[0m in \u001b[0;36m<module>\u001b[1;34m()\u001b[0m\n\u001b[0;32m      3\u001b[0m     \u001b[1;34m'稅後純益成長率(%)_已格式化'\u001b[0m\u001b[1;33m,\u001b[0m\u001b[1;33m\u001b[0m\u001b[0m\n\u001b[0;32m      4\u001b[0m     \u001b[0mdata_frequency\u001b[0m\u001b[1;33m=\u001b[0m\u001b[1;34m'season'\u001b[0m\u001b[1;33m,\u001b[0m\u001b[1;33m\u001b[0m\u001b[0m\n\u001b[1;32m----> 5\u001b[1;33m     \u001b[0mmarket_size_threshold\u001b[0m\u001b[1;33m=\u001b[0m\u001b[1;36m200\u001b[0m\u001b[1;33m\u001b[0m\u001b[0m\n\u001b[0m\u001b[0;32m      6\u001b[0m )\n",
      "\u001b[1;32m~\\Desktop\\Backtesting platform\\preprocess.py\u001b[0m in \u001b[0;36m__init__\u001b[1;34m(self, data_name, data_frequency, market_size_threshold, market_size_select_rank, market_size_select_number, market_size_select_ratio)\u001b[0m\n\u001b[0;32m     84\u001b[0m             self.data.columns = list(map(\n\u001b[0;32m     85\u001b[0m                 \u001b[1;32mlambda\u001b[0m \u001b[0mx\u001b[0m\u001b[1;33m:\u001b[0m \u001b[0mdatetime\u001b[0m\u001b[1;33m.\u001b[0m\u001b[0mstrptime\u001b[0m\u001b[1;33m(\u001b[0m\u001b[0mself\u001b[0m\u001b[1;33m.\u001b[0m\u001b[0mreference_timeframe\u001b[0m\u001b[1;33m[\u001b[0m\u001b[0mx\u001b[0m\u001b[1;33m]\u001b[0m\u001b[1;33m,\u001b[0m \u001b[1;34m'%Y%m%d'\u001b[0m\u001b[1;33m)\u001b[0m\u001b[1;33m,\u001b[0m\u001b[1;33m\u001b[0m\u001b[0m\n\u001b[1;32m---> 86\u001b[1;33m                 \u001b[0mself\u001b[0m\u001b[1;33m.\u001b[0m\u001b[0mdata\u001b[0m\u001b[1;33m.\u001b[0m\u001b[0mcolumns\u001b[0m\u001b[1;33m\u001b[0m\u001b[0m\n\u001b[0m\u001b[0;32m     87\u001b[0m             ))\n\u001b[0;32m     88\u001b[0m             \u001b[0mpossible_trade_date\u001b[0m \u001b[1;33m=\u001b[0m \u001b[1;33m[\u001b[0m\u001b[1;33m]\u001b[0m\u001b[1;33m\u001b[0m\u001b[0m\n",
      "\u001b[1;31mAttributeError\u001b[0m: 'Data' object has no attribute 'data'"
     ]
    }
   ],
   "source": [
    "# 建立Data物件\n",
    "roe_growth = Data(\n",
    "    '稅後純益成長率(%)_已格式化',\n",
    "    data_frequency='season',\n",
    "    market_size_threshold=200\n",
    ")"
   ]
  },
  {
   "cell_type": "markdown",
   "metadata": {},
   "source": [
    "# 定義篩選條件、計算公式"
   ]
  },
  {
   "cell_type": "code",
   "execution_count": null,
   "metadata": {},
   "outputs": [],
   "source": [
    "from operators import lag\n",
    "\n",
    "def consecutive_2_period_growth_filter(series):\n",
    "    '''\n",
    "    連續兩期上升且兩期皆為正\n",
    "    '''\n",
    "    return (\n",
    "#         (series > lag(series, 1)) &\n",
    "        (series > 0) &\n",
    "        (lag(series, 1) > 0)\n",
    "    )"
   ]
  },
  {
   "cell_type": "markdown",
   "metadata": {},
   "source": [
    "# 加入濾網、篩選條件、計算自定義數值分析"
   ]
  },
  {
   "cell_type": "code",
   "execution_count": null,
   "metadata": {},
   "outputs": [],
   "source": [
    "roe_growth.add_filter(consecutive_2_period_growth_filter)\n",
    "roe_growth.select(rank='top', ratio=0.3)"
   ]
  },
  {
   "cell_type": "markdown",
   "metadata": {},
   "source": [
    "# 開始回測"
   ]
  },
  {
   "cell_type": "code",
   "execution_count": null,
   "metadata": {},
   "outputs": [],
   "source": [
    "signal_list = [\n",
    "    roe_growth\n",
    "]\n",
    "\n",
    "backtesting = Backtest(\n",
    "    signal_list,\n",
    "    start_date='2005/1/1',\n",
    "    end_date='2019/6/30'\n",
    ")\n",
    "backtesting.run()"
   ]
  },
  {
   "cell_type": "markdown",
   "metadata": {},
   "source": [
    "# 分析結果"
   ]
  },
  {
   "cell_type": "code",
   "execution_count": null,
   "metadata": {
    "scrolled": true
   },
   "outputs": [],
   "source": [
    "from analysis import Analysis\n",
    "\n",
    "backtesting_result = Analysis(backtesting)\n",
    "backtesting_result.run()"
   ]
  },
  {
   "cell_type": "code",
   "execution_count": null,
   "metadata": {
    "scrolled": false
   },
   "outputs": [],
   "source": [
    "backtesting_result.plot_cumulative_return(weight_method='naive_weight')"
   ]
  },
  {
   "cell_type": "code",
   "execution_count": null,
   "metadata": {
    "scrolled": false
   },
   "outputs": [],
   "source": [
    "backtesting_result.plot_profit_and_loss(weight_method='naive_weight', frequency='month')"
   ]
  },
  {
   "cell_type": "code",
   "execution_count": null,
   "metadata": {
    "scrolled": false
   },
   "outputs": [],
   "source": [
    "backtesting_result.plot_return_heatmap(weight_method='cap_weight')"
   ]
  },
  {
   "cell_type": "code",
   "execution_count": null,
   "metadata": {
    "scrolled": false
   },
   "outputs": [],
   "source": [
    "backtesting_result.summary()"
   ]
  },
  {
   "cell_type": "code",
   "execution_count": null,
   "metadata": {
    "scrolled": false
   },
   "outputs": [],
   "source": [
    "end_ = time.time()\n",
    "print(end_ - start_)"
   ]
  }
 ],
 "metadata": {
  "kernelspec": {
   "display_name": "Python 3",
   "language": "python",
   "name": "python3"
  },
  "language_info": {
   "codemirror_mode": {
    "name": "ipython",
    "version": 3
   },
   "file_extension": ".py",
   "mimetype": "text/x-python",
   "name": "python",
   "nbconvert_exporter": "python",
   "pygments_lexer": "ipython3",
   "version": "3.6.3"
  }
 },
 "nbformat": 4,
 "nbformat_minor": 2
}
